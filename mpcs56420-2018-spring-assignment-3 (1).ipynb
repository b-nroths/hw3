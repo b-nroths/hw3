{
 "cells": [
  {
   "cell_type": "markdown",
   "metadata": {},
   "source": [
    "# 1. Global sequence alignments"
   ]
  },
  {
   "cell_type": "markdown",
   "metadata": {},
   "source": [
    "You are given two sequences AGATTAC and AGTTAC. Assume a match score of 1, a gap penalty of 3 and a substitution score of -1. Using these scores, obtain the global alignment of these two sequences manually in the following two steps:\n",
    "\n",
    "1. Fill in the entries of the F matrix by applying the recurrence relationship for global alignment to these sequences. Please show the back pointers to the matrix entry/entries that give you the maximal score for any entry.\n",
    "\n",
    "2. Apply the trace back procedure to obtain an optimal alignment. If there are multiple possible alignments, please show all of them along with their traceback paths.\n",
    "\n",
    "You may take a picture of your alignments and include the image as submission for homework.  Please type the alignments immediately following."
   ]
  },
  {
   "cell_type": "markdown",
   "metadata": {},
   "source": [
    "Alignment:\n",
    "\n",
    "* AG_TTAC\n",
    "* AGATTAC"
   ]
  },
  {
   "cell_type": "markdown",
   "metadata": {},
   "source": [
    "# 2. Local sequence alignments"
   ]
  },
  {
   "cell_type": "markdown",
   "metadata": {},
   "source": [
    "Perform a manual local alignment for the sequences, GAAGAGTATA and AAGCTATACC.   Assume a match score of 1, a gap penalty of 3 and a substitution score of -1.  Complete the following steps:\n",
    "\n",
    "1. Fill in the entries of the F matrix using the recurrence relationship for the local alignment of these sequences. Show back pointers to matrix entry/entries that give you the maximal score.\n",
    "\n",
    "2. Apply the trace back procedure to generate a local alignment.\n",
    "\n",
    "You may take a picture of your alignments and include the image as submission for homework.  Please type the alignments immediately following."
   ]
  },
  {
   "cell_type": "markdown",
   "metadata": {},
   "source": [
    "Alignment:\n",
    "* TATA\n",
    "* TATA"
   ]
  },
  {
   "cell_type": "markdown",
   "metadata": {},
   "source": [
    "# 3. Dynamic Programming Implementation"
   ]
  },
  {
   "cell_type": "markdown",
   "metadata": {},
   "source": [
    "Implement dynamic programming algorithms for global (Needleman-Wunsch) and local (Smith-Waterman) alignment of protein sequences.  The implementation should be on Google App Engine platform and use a web form to submit the alignment calculation.  The form should have the following fields:\n",
    "\n",
    "* Sequence 1\n",
    "* Sequence 2\n",
    "* Select global or local alignment\n",
    "* Match Score, Mismatch Score, Linear Gap penalty\n",
    "\n",
    "Once submitted, the solution should show all optimal alignments, the scoring matrix and traceback onscreen.  Type the URL of the application below?"
   ]
  },
  {
   "cell_type": "code",
   "execution_count": 39,
   "metadata": {
    "collapsed": true
   },
   "outputs": [],
   "source": [
    "# is gap_pen going to be input as positive or neg (right now, assuming positive)\n",
    "# need to be able to handle multiple optimal alignments\n",
    "\n",
    "import numpy as np\n",
    "\n",
    "def alignment(seq1, seq2, match_score, mis_score, gap_pen, global_bool=True):\n",
    "    if global_bool:\n",
    "        grid, trace = global_align(seq1, seq2, match_score, mis_score, gap_pen)\n",
    "    else:\n",
    "        results = local_align(seq1, seq2, match_score, mis_score, gap_pen)\n",
    "    \n",
    "    opt_align = traceback(grid, trace, seq1, seq2)\n",
    "    \n",
    "    return opt_align, grid, trace\n",
    "\n",
    "def match(i, j, seq1, seq2, match_score, mis_score):\n",
    "    base_i = seq1[i-1]\n",
    "    base_j = seq2[j-1]\n",
    "\n",
    "    if base_i == base_j:\n",
    "        return match_score\n",
    "    else:\n",
    "        return mis_score\n",
    "\n",
    "def traceback(grid, trace, seq1, seq2):\n",
    "    opt_align = []\n",
    "    align1 = ''\n",
    "    align2 = ''\n",
    "    i, j = np.unravel_index(grid.argmax(), grid.shape)\n",
    "    \n",
    "    while i > 0 and j > 0:\n",
    "        next_step = str(trace[i, j])\n",
    "        if '1' in next_step:\n",
    "            align1 = seq1[i-1] + align1\n",
    "            align2 = '_' + align2\n",
    "            i -= 1\n",
    "        elif '2' in next_step:\n",
    "            align1 = '_' + align1\n",
    "            align2 = seq2[j-1] + align2\n",
    "            j -= 1\n",
    "        elif '3' in next_step:\n",
    "            align1 = seq1[i-1] + align1\n",
    "            align2 = seq2[j-1] + align2\n",
    "            i -= 1\n",
    "            j -= 1\n",
    "    \n",
    "    opt_align.append(align1)\n",
    "    opt_align.append(align2)\n",
    "    \n",
    "    return opt_align\n",
    "        \n",
    "def global_align(seq1, seq2, match_score, mis_score, gap_pen):\n",
    "    m = len(seq1) + 1\n",
    "    n = len(seq2) + 1\n",
    "    grid = np.zeros((m, n))\n",
    "    trace = np.zeros((m, n))\n",
    "    \n",
    "    # rows are i and columns are j\n",
    "    for i in range(m):\n",
    "        grid[i][0] = gap_pen*-i\n",
    "    for j in range(n):\n",
    "        grid[0][j] = gap_pen*-j\n",
    "    \n",
    "    for i in range(1, m):\n",
    "        for j in range(1, n):\n",
    "            match_boost = match(i, j, seq1, seq2, match_score, mis_score)\n",
    "            \n",
    "            up = grid[i-1][j] - gap_pen\n",
    "            left = grid[i][j-1] - gap_pen\n",
    "            diag = grid[i-1][j-1] + match_boost\n",
    "            \n",
    "            high_score = max(up, left, diag)\n",
    "            \n",
    "            grid[i][j] = high_score\n",
    "            \n",
    "            trace_pointer = ''\n",
    "            if up == high_score:\n",
    "                trace_pointer += '1'\n",
    "            if left == high_score:\n",
    "                trace_pointer += '2'\n",
    "            if diag == high_score:\n",
    "                trace_pointer += '3'\n",
    "            trace[i][j] = int(trace_pointer)\n",
    "\n",
    "    return grid, trace\n",
    "            \n",
    "    \n",
    "# def local_align(seq1, seq2, match_score, mis_score, gap_pen)"
   ]
  },
  {
   "cell_type": "code",
   "execution_count": 40,
   "metadata": {},
   "outputs": [
    {
     "data": {
      "text/plain": [
       "['AGATTAC', 'AG_TTAC']"
      ]
     },
     "execution_count": 40,
     "metadata": {},
     "output_type": "execute_result"
    }
   ],
   "source": [
    "seq1 = 'AGATTAC'\n",
    "seq2 = 'AGTTAC'\n",
    "\n",
    "opt_align, grid, trace = alignment(seq1, seq2, match_score=1, mis_score=-1, gap_pen=3, global_bool=True)\n",
    "opt_align"
   ]
  },
  {
   "cell_type": "markdown",
   "metadata": {},
   "source": [
    "# 4.  Statisics of Pairwise Alignments"
   ]
  },
  {
   "cell_type": "markdown",
   "metadata": {},
   "source": [
    "Perform sequence alignment of the following sequences:\n",
    "\n",
    "```\n",
    "PAWHEAE\n",
    "HEAGAWGHEE\n",
    "```\n",
    "Assume a match score of 1, a gap penalty of 3 and a substitution score of -1.  What is the alignment score?"
   ]
  },
  {
   "cell_type": "code",
   "execution_count": null,
   "metadata": {
    "collapsed": true
   },
   "outputs": [],
   "source": []
  },
  {
   "cell_type": "markdown",
   "metadata": {},
   "source": [
    "\n",
    "Next, generate 100 random sequences with the same amino acid distribution as `PAWHEAE` and perform an alignment of each sequence to `HEAGAWGHEE`.   Calculate the Z-score.  What does the Z-score say about the significance of the alignment?   Are the scores normally distributed?  *You can use SciPy or any other modules to help.*"
   ]
  },
  {
   "cell_type": "code",
   "execution_count": null,
   "metadata": {
    "collapsed": true
   },
   "outputs": [],
   "source": []
  },
  {
   "cell_type": "markdown",
   "metadata": {},
   "source": [
    "Repeat the process above, but now generate 1,000 and 10,000 random sequences and calculate the Z-score for each set.  Does the change in number of sequences alter your evaluation of the evolutionary relatedness of the sequences?"
   ]
  },
  {
   "cell_type": "code",
   "execution_count": null,
   "metadata": {
    "collapsed": true
   },
   "outputs": [],
   "source": []
  },
  {
   "cell_type": "markdown",
   "metadata": {},
   "source": [
    "Considering the wall time for each run, comment of the feasibility for computing the Z-score significance while searching a large database of millions of sequences."
   ]
  },
  {
   "cell_type": "code",
   "execution_count": null,
   "metadata": {
    "collapsed": true
   },
   "outputs": [],
   "source": []
  },
  {
   "cell_type": "markdown",
   "metadata": {},
   "source": [
    "# 5.  Recent Approaches in Sequence Alignemnt"
   ]
  },
  {
   "cell_type": "markdown",
   "metadata": {},
   "source": [
    "Search PubMed and identify a paper on a different sequence alignment method.  Do not use BLAST or FASTA.  Briefly (~1 paragraph) discuss what is different in these approaches and how they improve on Needleman-Wunch and/or Smith-Waterman.  You answer does not have to be uneccesarily technical, but please provide a concrete example of the improvement it makes."
   ]
  },
  {
   "cell_type": "code",
   "execution_count": null,
   "metadata": {
    "collapsed": true
   },
   "outputs": [],
   "source": []
  }
 ],
 "metadata": {
  "anaconda-cloud": {},
  "kernelspec": {
   "display_name": "Python 3",
   "language": "python",
   "name": "python3"
  },
  "language_info": {
   "codemirror_mode": {
    "name": "ipython",
    "version": 2
   },
   "file_extension": ".py",
   "mimetype": "text/x-python",
   "name": "python",
   "nbconvert_exporter": "python",
   "pygments_lexer": "ipython2",
   "version": "2.7.14"
  }
 },
 "nbformat": 4,
 "nbformat_minor": 2
}
