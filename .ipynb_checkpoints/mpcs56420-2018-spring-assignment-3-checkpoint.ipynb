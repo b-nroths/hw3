{
 "cells": [
  {
   "cell_type": "markdown",
   "metadata": {},
   "source": [
    "# 1. Global sequence alignments"
   ]
  },
  {
   "cell_type": "markdown",
   "metadata": {
    "collapsed": true
   },
   "source": [
    "You are given two sequences AGATTAC and AGTTAC. Assume a match score of 1, a gap penalty of 3 and a substitution score of -1. Using these scores, obtain the global alignment of these two sequences manually in the following two steps:\n",
    "\n",
    "1. Fill in the entries of the F matrix by applying the recurrence relationship for global alignment to these sequences. Please show the back pointers to the matrix entry/entries that give you the maximal score for any entry.\n",
    "\n",
    "2. Apply the trace back procedure to obtain an optimal alignment. If there are multiple possible alignments, please show all of them along with their traceback paths.\n",
    "\n",
    "You may take a picture of your alignments and include the image as submission for homework.  Please type the alignments immediately following."
   ]
  },
  {
   "cell_type": "markdown",
   "metadata": {},
   "source": [
    "![](1.png)"
   ]
  },
  {
   "cell_type": "markdown",
   "metadata": {},
   "source": [
    "# 2. Local sequence alignments"
   ]
  },
  {
   "cell_type": "markdown",
   "metadata": {},
   "source": [
    "Perform a manual local alignment for the sequences, GAAGAGTATA and AAGCTATACC.   Assume a match score of 1, a gap penalty of 3 and a substitution score of -1.  Complete the following steps:\n",
    "\n",
    "1. Fill in the entries of the F matrix using the recurrence relationship for the local alignment of these sequences. Show back pointers to matrix entry/entries that give you the maximal score.\n",
    "\n",
    "2. Apply the trace back procedure to generate a local alignment.\n",
    "\n",
    "You may take a picture of your alignments and include the image as submission for homework.  Please type the alignments immediately following."
   ]
  },
  {
   "cell_type": "markdown",
   "metadata": {},
   "source": [
    "![](2.png)"
   ]
  },
  {
   "cell_type": "markdown",
   "metadata": {},
   "source": [
    "# 3. Dynamic Programming Implementation"
   ]
  },
  {
   "cell_type": "markdown",
   "metadata": {},
   "source": [
    "Implement dynamic programming algorithms for global (Needleman-Wunsch) and local (Smith-Waterman) alignment of protein sequences.  The implementation should be on Google App Engine platform and use a web form to submit the alignment calculation.  The form should have the following fields:\n",
    "\n",
    "* Sequence 1\n",
    "* Sequence 2\n",
    "* Select global or local alignment\n",
    "* Match Score, Mismatch Score, Linear Gap penalty\n",
    "\n",
    "Once submitted, the solution should show all optimal alignments, the scoring matrix and traceback onscreen.  Type the URL of the application below?"
   ]
  },
  {
   "cell_type": "code",
   "execution_count": 1,
   "metadata": {},
   "outputs": [],
   "source": [
    "# URL\n",
    "# https://bnroths-166719.appspot.com\n",
    "\n",
    "import numpy as np\n",
    "\n",
    "class Alignment:\n",
    "\tdef __init__(self, type='global'):\n",
    "\t\tself.type = 'global'\n",
    "\n",
    "\tdef traceback(self, grid, trace, seq1, seq2):\n",
    "\t\topt_align = []\n",
    "\t\talign1 = ''\n",
    "\t\talign2 = ''\n",
    "\t\ti, j = np.unravel_index(grid.argmax(), grid.shape)\n",
    "\t\t\n",
    "\t\twhile i > 0 and j > 0:\n",
    "\t\t\tnext_step = str(trace[i][j])\n",
    "\t\t\tif 'up' in next_step:\n",
    "\t\t\t\talign1 = seq1[i-1] + align1\n",
    "\t\t\t\talign2 = '_' + align2\n",
    "\t\t\t\ti -= 1\n",
    "\t\t\telif 'left' in next_step:\n",
    "\t\t\t\talign1 = '_' + align1\n",
    "\t\t\t\talign2 = seq2[j-1] + align2\n",
    "\t\t\t\tj -= 1\n",
    "\t\t\telif 'diag' in next_step:\n",
    "\t\t\t\talign1 = seq1[i-1] + align1\n",
    "\t\t\t\talign2 = seq2[j-1] + align2\n",
    "\t\t\t\ti -= 1\n",
    "\t\t\t\tj -= 1\n",
    "\t\t\n",
    "\t\topt_align.append(align1)\n",
    "\t\topt_align.append(align2)\n",
    "\t\t\n",
    "\t\treturn opt_align\n",
    "\tdef alignment(self, sequence_1, sequence_2, alignment_type='global', match_score=1, mismatch_score=-1, linear_gap=-3):\n",
    "\t\tif alignment_type not in ('global', 'local'):\n",
    "\t\t\treturn False\n",
    "\t\tseq_1_len = len(sequence_1) + 1\n",
    "\t\tseq_2_len = len(sequence_2) + 1\n",
    "\t\t\n",
    "\t\tgrid = np.zeros((seq_1_len, seq_2_len))\n",
    "\t\ttrace = np.zeros((seq_1_len, seq_2_len)).tolist()\n",
    "\t\t\n",
    "\t\t# init matrix with edges gap penelty\n",
    "\t\tif alignment_type == 'global':\n",
    "\t\t\tfor i in range(seq_1_len):\n",
    "\t\t\t\tgrid[i][0] = linear_gap * i\n",
    "\t\t\tfor j in range(seq_2_len):\n",
    "\t\t\t\tgrid[0][j] = linear_gap * j\n",
    "\t\telif alignment_type == 'local':\n",
    "\t\t\tfor i in range(seq_1_len):\n",
    "\t\t\t\tgrid[i][0] = 0\n",
    "\t\t\tfor j in range(seq_2_len):\n",
    "\t\t\t\tgrid[0][j] = 0\n",
    "\t\t\t\t\n",
    "\t\tprint grid\n",
    "\t\t\n",
    "\n",
    "\t\tfor i in range(1, seq_1_len):\n",
    "\t\t\tfor j in range(1, seq_2_len):\n",
    "\n",
    "\t\t\t\t## does diag_match?\n",
    "\t\t\t\tif sequence_1[i-1] == sequence_2[j-1]:\n",
    "\t\t\t\t\tmatch_boost = match_score\n",
    "\t\t\t\telse:\n",
    "\t\t\t\t\tmatch_boost = mismatch_score\n",
    "\n",
    "\t\t\t\tif alignment_type == 'global':\n",
    "\t\t\t\t\tup   = grid[i-1][j] + linear_gap\n",
    "\t\t\t\t\tleft = grid[i][j-1] + linear_gap\n",
    "\t\t\t\t\tdiag = grid[i-1][j-1] + match_boost\n",
    "\t\t\t\t\tgrid[i][j] = max(up, left, diag)\n",
    "\t\t\t\t\ttrace_pointer = ''\n",
    "\t\t\t\t\tif up == grid[i][j]:\n",
    "\t\t\t\t\t\ttrace_pointer += 'up'\n",
    "\t\t\t\t\tif left == grid[i][j]:\n",
    "\t\t\t\t\t\ttrace_pointer += 'left'\n",
    "\t\t\t\t\tif diag == grid[i][j]:\n",
    "\t\t\t\t\t\ttrace_pointer += 'diag'\n",
    "\t\t\t\t\ttrace[i][j] = str(trace_pointer)\n",
    "\t\t\t\telif alignment_type == 'local':\n",
    "\t\t\t\t\tdiag = grid[i-1][j-1] + match_boost\n",
    "\t\t\t\t\tgrid[i][j] = max(diag, 0)\n",
    "\t\t\t\t\tif diag > 0:\n",
    "\t\t\t\t\t\ttrace[i][j] = 'diag'\n",
    "\t\talignment = self.traceback(grid, trace, sequence_1, sequence_2)\n",
    "\t\t# print alignment\n",
    "\t\treturn grid, trace, alignment, int(grid.max())\n"
   ]
  },
  {
   "cell_type": "code",
   "execution_count": 2,
   "metadata": {},
   "outputs": [
    {
     "name": "stdout",
     "output_type": "stream",
     "text": [
      "[[  0.  -3.  -6.  -9. -12. -15. -18.]\n",
      " [ -3.   0.   0.   0.   0.   0.   0.]\n",
      " [ -6.   0.   0.   0.   0.   0.   0.]\n",
      " [ -9.   0.   0.   0.   0.   0.   0.]\n",
      " [-12.   0.   0.   0.   0.   0.   0.]\n",
      " [-15.   0.   0.   0.   0.   0.   0.]\n",
      " [-18.   0.   0.   0.   0.   0.   0.]\n",
      " [-21.   0.   0.   0.   0.   0.   0.]]\n",
      "[[  0.  -3.  -6.  -9. -12. -15. -18.]\n",
      " [ -3.   1.  -2.  -5.  -8. -11. -14.]\n",
      " [ -6.  -2.   2.  -1.  -4.  -7. -10.]\n",
      " [ -9.  -5.  -1.   1.  -2.  -3.  -6.]\n",
      " [-12.  -8.  -4.   0.   2.  -1.  -4.]\n",
      " [-15. -11.  -7.  -3.   1.   1.  -2.]\n",
      " [-18. -14. -10.  -6.  -2.   2.   0.]\n",
      " [-21. -17. -13.  -9.  -5.  -1.   3.]]\n",
      "['AGATTAC', 'AG_TTAC']\n",
      "3\n"
     ]
    }
   ],
   "source": [
    "a = Alignment()\n",
    "grid, trace, alignment, score = a.alignment('AGATTAC', 'AGTTAC', alignment_type='global')\n",
    "#a.alignment('AAGCTATACC', 'GAAGAGTATA', alignment_type='local')\n",
    "print grid\n",
    "print alignment\n",
    "print score"
   ]
  },
  {
   "cell_type": "markdown",
   "metadata": {},
   "source": [
    "# 4.  Statisics of Pairwise Alignments"
   ]
  },
  {
   "cell_type": "markdown",
   "metadata": {},
   "source": [
    "Perform sequence alignment of the following sequences:\n",
    "\n",
    "```\n",
    "PAWHEAE\n",
    "HEAGAWGHEE\n",
    "```\n",
    "Assume a match score of 1, a gap penalty of 3 and a substitution score of -1.  What is the alignment score?"
   ]
  },
  {
   "cell_type": "code",
   "execution_count": 3,
   "metadata": {},
   "outputs": [
    {
     "name": "stdout",
     "output_type": "stream",
     "text": [
      "[[0. 0. 0. 0. 0. 0. 0. 0. 0. 0. 0.]\n",
      " [0. 0. 0. 0. 0. 0. 0. 0. 0. 0. 0.]\n",
      " [0. 0. 0. 0. 0. 0. 0. 0. 0. 0. 0.]\n",
      " [0. 0. 0. 0. 0. 0. 0. 0. 0. 0. 0.]\n",
      " [0. 0. 0. 0. 0. 0. 0. 0. 0. 0. 0.]\n",
      " [0. 0. 0. 0. 0. 0. 0. 0. 0. 0. 0.]\n",
      " [0. 0. 0. 0. 0. 0. 0. 0. 0. 0. 0.]\n",
      " [0. 0. 0. 0. 0. 0. 0. 0. 0. 0. 0.]]\n",
      "3\n",
      "['HEA', 'HEA']\n"
     ]
    }
   ],
   "source": [
    "grid, trace, alignment, score = a.alignment('PAWHEAE', 'HEAGAWGHEE', alignment_type='local')\n",
    "print score\n",
    "print alignment"
   ]
  },
  {
   "cell_type": "markdown",
   "metadata": {},
   "source": [
    "\n",
    "Next, generate 100 random sequences with the same amino acid distribution as `PAWHEAE` and perform an alignment of each sequence to `HEAGAWGHEE`.   Calculate the Z-score.  What does the Z-score say about the significance of the alignment?   Are the scores normally distributed?  *You can use SciPy or any other modules to help.*"
   ]
  },
  {
   "cell_type": "code",
   "execution_count": null,
   "metadata": {},
   "outputs": [],
   "source": [
    "import matplotlib\n",
    "import numpy as np\n",
    "import matplotlib.pyplot as plt\n",
    "import scipy.stats as stats\n",
    "\n",
    "%matplotlib inline\n",
    "\n",
    "\n",
    "from random import shuffle\n",
    "a = Alignment()\n",
    "\n",
    "def run_n_times(n=100):\n",
    "    sequence_1 = 'PAWHEAE'\n",
    "    scores = []\n",
    "    for i in range(n):\n",
    "        # print i, sequence_1\n",
    "        sequence_1 = list(sequence_1)\n",
    "        shuffle(sequence_1)\n",
    "        sequence_1 = \"\".join(sequence_1)\n",
    "        grid, trace, alignment, score = a.alignment(sequence_1, 'HEAGAWGHEE', alignment_type='local')\n",
    "        scores.append(score)\n",
    "\n",
    "    plt.hist(scores)\n",
    "\n",
    "    plt.xlabel('Score')\n",
    "    plt.ylabel('Count')\n",
    "    plt.title(r'Scores Histogram n=%s' % n)\n",
    "    plt.xlim([0, 5])\n",
    "    # Tweak spacing to prevent clipping of ylabel\n",
    "    fig.tight_layout()\n",
    "    plt.show()\n",
    "    \n",
    "    z = 1.0*(np.max(scores) - np.mean(scores))/np.std(scores)\n",
    "    #print np.mean(scores), np.std(scores), np.max(scores), z\n",
    "    return np.mean(scores), np.std(scores), np.max(scores), z, scores\n",
    "\n",
    "mean, std, max_score, z, scores = run_n_times(100)\n",
    "\n",
    "\n",
    "z, pval = stats.normaltest(scores)\n",
    "\n",
    "if(pval < 0.05):\n",
    "    print \"Not normal distribution\"\n",
    "else:\n",
    "    print \"Normal distribution\"\n",
    "    \n",
    "print \"Z score = %s\" % z"
   ]
  },
  {
   "cell_type": "markdown",
   "metadata": {},
   "source": [
    "Repeat the process above, but now generate 1,000 and 10,000 random sequences and calculate the Z-score for each set.  Does the change in number of sequences alter your evaluation of the evolutionary relatedness of the sequences?"
   ]
  },
  {
   "cell_type": "code",
   "execution_count": 135,
   "metadata": {},
   "outputs": [
    {
     "data": {
      "image/png": "[encoded data removed]",
      "text/plain": [
       "<Figure size 432x288 with 1 Axes>"
      ]
     },
     "metadata": {},
     "output_type": "display_data"
    },
    {
     "name": "stdout",
     "output_type": "stream",
     "text": [
      "Not normal distribution\n",
      "Z score = 53.57678207109555\n"
     ]
    }
   ],
   "source": [
    "mean, std, max_score, z, scores = run_n_times(1000)\n",
    "\n",
    "z, pval = stats.normaltest(scores)\n",
    "\n",
    "if(pval < 0.05):\n",
    "    print \"Not normal distribution\"\n",
    "else:\n",
    "    print \"Normal distribution\"\n",
    "    \n",
    "print \"Z score = %s\" % z"
   ]
  },
  {
   "cell_type": "code",
   "execution_count": 137,
   "metadata": {},
   "outputs": [
    {
     "data": {
      "image/png": "[encoded data removed]",
      "text/plain": [
       "<Figure size 432x288 with 1 Axes>"
      ]
     },
     "metadata": {},
     "output_type": "display_data"
    },
    {
     "name": "stdout",
     "output_type": "stream",
     "text": [
      "Not normal distribution\n",
      "Z score = 76.74793515119205\n"
     ]
    }
   ],
   "source": [
    "mean, std, max_score, z, scores = run_n_times(10000)\n",
    "\n",
    "z, pval = stats.normaltest(scores)\n",
    "\n",
    "if(pval < 0.05):\n",
    "    print \"Not normal distribution\"\n",
    "else:\n",
    "    print \"Normal distribution\"\n",
    "    \n",
    "print \"Z score = %s\" % z"
   ]
  },
  {
   "cell_type": "markdown",
   "metadata": {},
   "source": [
    "Considering the wall time for each run, comment of the feasibility for computing the Z-score significance while searching a large database of millions of sequences."
   ]
  },
  {
   "cell_type": "markdown",
   "metadata": {},
   "source": [
    "Though I ran the script for only a 10,000 iterations it did not take super long (finished in less than 5 seconds)"
   ]
  },
  {
   "cell_type": "markdown",
   "metadata": {},
   "source": [
    "# 5.  Recent Approaches in Sequence Alignemnt"
   ]
  },
  {
   "cell_type": "markdown",
   "metadata": {},
   "source": [
    "Search PubMed and identify a paper on a different sequence alignment method.  Do not use BLAST or FASTA.  Briefly (~1 paragraph) discuss what is different in these approaches and how they improve on Needleman-Wunch and/or Smith-Waterman.  You answer does not have to be uneccesarily technical, but please provide a concrete example of the improvement it makes."
   ]
  },
  {
   "cell_type": "code",
   "execution_count": null,
   "metadata": {},
   "outputs": [],
   "source": []
  }
 ],
 "metadata": {
  "anaconda-cloud": {},
  "kernelspec": {
   "display_name": "Python 2",
   "language": "python",
   "name": "python2"
  },
  "language_info": {
   "codemirror_mode": {
    "name": "ipython",
    "version": 2
   },
   "file_extension": ".py",
   "mimetype": "text/x-python",
   "name": "python",
   "nbconvert_exporter": "python",
   "pygments_lexer": "ipython2",
   "version": "2.7.14"
  }
 },
 "nbformat": 4,
 "nbformat_minor": 2
}
